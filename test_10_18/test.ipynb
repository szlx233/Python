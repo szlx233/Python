{
 "cells": [
  {
   "cell_type": "code",
   "execution_count": 11,
   "metadata": {},
   "outputs": [],
   "source": [
    "input_age = input(\"Enter your age: \")\n",
    "age = int(input_age)"
   ]
  },
  {
   "cell_type": "code",
   "execution_count": 12,
   "metadata": {},
   "outputs": [
    {
     "name": "stdout",
     "output_type": "stream",
     "text": [
      "欢迎观看！\n"
     ]
    }
   ],
   "source": [
    "if age < 18:\n",
    "    print(\"未满十八岁禁止观看！\")\n",
    "else:\n",
    "    print(\"欢迎观看！\")"
   ]
  },
  {
   "cell_type": "code",
   "execution_count": 13,
   "metadata": {},
   "outputs": [
    {
     "name": "stdout",
     "output_type": "stream",
     "text": [
      "欢迎观看！\n"
     ]
    }
   ],
   "source": [
    "age = int(input(\"你的年龄是：\"))\n",
    "print(\"未满十八岁禁止观看！\") if age <18 else print(\"欢迎观看！\")"
   ]
  },
  {
   "cell_type": "code",
   "execution_count": 14,
   "metadata": {},
   "outputs": [
    {
     "name": "stdout",
     "output_type": "stream",
     "text": [
      "30\n"
     ]
    }
   ],
   "source": [
    "a = 30\n",
    "b = 50\n",
    "small = (a if a < b else b)\n",
    "print(small)"
   ]
  },
  {
   "cell_type": "code",
   "execution_count": 15,
   "metadata": {},
   "outputs": [
    {
     "name": "stdout",
     "output_type": "stream",
     "text": [
      "C\n"
     ]
    }
   ],
   "source": [
    "score = 66\n",
    "\n",
    "level = (\"D\" if 0 <= score < 60 else\n",
    "         \"C\" if 60 <= score < 70 else\n",
    "         \"B\" if 70 <= score < 80 else\n",
    "         \"A\" if 80 <= score < 90 else\n",
    "         \"S\" if 90 <= score <= 100 else \"请输入0到100之间的分数！\")\n",
    "print(level)"
   ]
  },
  {
   "cell_type": "code",
   "execution_count": 16,
   "metadata": {},
   "outputs": [],
   "source": [
    "love = \"yes\"\n",
    "while love == \"yes\":\n",
    "    love = input(\"今天你还爱我吗？\")"
   ]
  },
  {
   "cell_type": "code",
   "execution_count": 17,
   "metadata": {},
   "outputs": [
    {
     "name": "stdout",
     "output_type": "stream",
     "text": [
      "100000001 5000000050000000\n"
     ]
    }
   ],
   "source": [
    "i = 1\n",
    "n = 100000000\n",
    "sum = 0\n",
    "\n",
    "while i <= n:\n",
    "    sum += i\n",
    "    i += 1\n",
    "\n",
    "print(i,sum)"
   ]
  },
  {
   "cell_type": "code",
   "execution_count": 18,
   "metadata": {},
   "outputs": [
    {
     "name": "stdout",
     "output_type": "stream",
     "text": [
      "5000000050000000.0\n"
     ]
    }
   ],
   "source": [
    "n = 100000000\n",
    "sum = n/2*(1+n)\n",
    "print(sum)"
   ]
  }
 ],
 "metadata": {
  "kernelspec": {
   "display_name": "base",
   "language": "python",
   "name": "python3"
  },
  "language_info": {
   "codemirror_mode": {
    "name": "ipython",
    "version": 3
   },
   "file_extension": ".py",
   "mimetype": "text/x-python",
   "name": "python",
   "nbconvert_exporter": "python",
   "pygments_lexer": "ipython3",
   "version": "3.11.7"
  }
 },
 "nbformat": 4,
 "nbformat_minor": 2
}
